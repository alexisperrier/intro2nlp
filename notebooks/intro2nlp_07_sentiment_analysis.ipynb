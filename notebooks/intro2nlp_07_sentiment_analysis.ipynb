{
 "cells": [
  {
   "cell_type": "markdown",
   "metadata": {},
   "source": [
    "# Discover Sentiment Analysis\n",
    "\n",
    "[![Open In Colab](colab-badge.svg)](https://colab.research.google.com/github/alexisperrier/intro2nlp/blob/master/notebooks/intro2nlp_07_sentiment_analysis.ipynb)\n",
    "\n",
    "We'll start with a dictionnary based approach with the [textblob](https://github.com/sloria/textblob) library.\n",
    "\n",
    "Note that using textblob for sentiment analysis is fine for a quick and dirty sentiment scoring but would not be reliable in a more serious project. The results are too dependent on polarity scores of specific words.\n",
    "\n",
    "We start by installing the library"
   ]
  },
  {
   "cell_type": "code",
   "execution_count": null,
   "metadata": {},
   "outputs": [],
   "source": [
    "# install textblob\n",
    "\n",
    "!pip install -U textblob\n",
    "!python -m textblob.download_corpora"
   ]
  },
  {
   "cell_type": "code",
   "execution_count": null,
   "metadata": {},
   "outputs": [],
   "source": [
    "from textblob import TextBlob\n",
    "\n",
    "text = \"That was a narrow escape, Alice said. A good deal frightened at the sudden change. But very glad to find herself still in existence;\"\n",
    "blob = TextBlob(text)\n",
    "print(\"Polarity \\t Subjectivity \\t Sentence\")\n",
    "for sentence in blob.sentences:\n",
    "    print(f\"{sentence.sentiment.polarity:8}\\t {sentence.sentiment.subjectivity:12} \\t {sentence.raw}\")\n",
    "\n"
   ]
  },
  {
   "cell_type": "markdown",
   "metadata": {},
   "source": [
    "The polarity score (0.35) of the second sentence \"A good deal frightened at the sudden change.\" is not correct. It should be negative.\n",
    "\n",
    "Let's see what's happening here by calculating the polarity for different versions of that sentence.\n"
   ]
  },
  {
   "cell_type": "code",
   "execution_count": null,
   "metadata": {},
   "outputs": [],
   "source": [
    "def polarity(text):\n",
    "    polarity_score = TextBlob(text).sentences[0].sentiment.polarity\n",
    "    print(f\"{polarity_score:5} \\t {text}\")\n",
    "    return \n",
    "\n",
    "# original sentence, positive\n",
    "polarity(\"A good deal frightened at the change.\")\n",
    "\n",
    "# remove 'a good deal', you get neutral\n",
    "polarity(\"Frightened at the change.\")\n",
    "\n",
    "# what if we add a negation, and change the noun\n",
    "polarity(\"Happy at the change.\")\n",
    "\n",
    "# or add just the word very\n",
    "polarity(\"Very frightened at the change.\")"
   ]
  },
  {
   "cell_type": "markdown",
   "metadata": {},
   "source": [
    "Frightened is considered a verb and is not taken into the polarity score although it's a negative word.\n",
    "\n",
    "The polarity score obtained with textblob is not very reliable.\n"
   ]
  },
  {
   "cell_type": "markdown",
   "metadata": {},
   "source": [
    "# Google NLP\n",
    "\n",
    "Check out the Google NLP Quickstart documentation, [found here](https://cloud.google.com/natural-language/docs/quickstart), to learn how to register and obtain an API key. \n",
    "\n",
    "You can also use the [demo page](https://cloud.google.com/natural-language)."
   ]
  },
  {
   "cell_type": "code",
   "execution_count": null,
   "metadata": {},
   "outputs": [],
   "source": [
    "import requests\n",
    "import json\n",
    "\n",
    "key = { \"key\": \"<Your API KEY here>\"}\n",
    "\n",
    "if key[\"key\"] != \"<Your API KEY here>\":\n",
    "\n",
    "    data = { \n",
    "        \"document\": {  \n",
    "            \"type\":\"PLAIN_TEXT\", \n",
    "            \"content\":\"Alice was very frightened.\" \n",
    "        }, \n",
    "        \"encodingType\":\"UTF8\" \n",
    "    }\n",
    "    results = requests.post(url, params=key, json=data)\n",
    "\n",
    "    content = results.content.decode('utf-8')\n",
    "    json.loads(content)['documentSentiment']"
   ]
  },
  {
   "cell_type": "code",
   "execution_count": null,
   "metadata": {},
   "outputs": [],
   "source": []
  }
 ],
 "metadata": {
  "kernelspec": {
   "display_name": "Python 3 (ipykernel)",
   "language": "python",
   "name": "python3"
  },
  "language_info": {
   "codemirror_mode": {
    "name": "ipython",
    "version": 3
   },
   "file_extension": ".py",
   "mimetype": "text/x-python",
   "name": "python",
   "nbconvert_exporter": "python",
   "pygments_lexer": "ipython3",
   "version": "3.9.7"
  }
 },
 "nbformat": 4,
 "nbformat_minor": 4
}
